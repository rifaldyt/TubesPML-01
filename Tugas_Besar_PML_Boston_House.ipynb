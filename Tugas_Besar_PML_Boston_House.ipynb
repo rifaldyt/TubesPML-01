{
  "cells": [
    {
      "cell_type": "markdown",
      "metadata": {
        "id": "bfd7f337"
      },
      "source": [
        "## Tugas Besar Advanced Machine Learning"
      ],
      "id": "bfd7f337"
    },
    {
      "cell_type": "markdown",
      "source": [
        "Rifaldi Tajrial - 1301208185"
      ],
      "metadata": {
        "id": "byK1YCU_Hxqx"
      },
      "id": "byK1YCU_Hxqx"
    },
    {
      "cell_type": "markdown",
      "source": [
        "Yoga Afrizal Riandika - 1301208543"
      ],
      "metadata": {
        "id": "C5CeCSYEHugI"
      },
      "id": "C5CeCSYEHugI"
    },
    {
      "cell_type": "markdown",
      "source": [
        "Kelas : IF-42-GAB01"
      ],
      "metadata": {
        "id": "WbB3jIDtHkml"
      },
      "id": "WbB3jIDtHkml"
    },
    {
      "cell_type": "code",
      "execution_count": null,
      "metadata": {
        "id": "e990df09"
      },
      "outputs": [],
      "source": [
        "#Import Library yang diperlukan untuk pembacaan Dataset\n",
        "import pandas as pd\n",
        "import numpy as np"
      ],
      "id": "e990df09"
    },
    {
      "cell_type": "code",
      "execution_count": null,
      "metadata": {
        "id": "5cd81089",
        "colab": {
          "base_uri": "https://localhost:8080/",
          "height": 206
        },
        "outputId": "f7118015-f6d4-48eb-c439-1f408f3b8fc0"
      },
      "outputs": [
        {
          "output_type": "execute_result",
          "data": {
            "text/plain": [
              "       CRIM   ZN  INDUS  CHAS    NOX     RM    AGE     DIS  RAD  TAX  PTRATIO  \\\n",
              "0   0.40771  0.0   6.20     1  0.507  6.164   91.3  3.0480    8  307     17.4   \n",
              "1  19.60910  0.0  18.10     0  0.671  7.313   97.9  1.3163   24  666     20.2   \n",
              "2   6.71772  0.0  18.10     0  0.713  6.749   92.6  2.3236   24  666     20.2   \n",
              "3   1.51902  0.0  19.58     1  0.605  8.375   93.9  2.1620    5  403     14.7   \n",
              "4   9.59571  0.0  18.10     0  0.693  6.404  100.0  1.6390   24  666     20.2   \n",
              "\n",
              "        B  LSTAT  PRICE  \n",
              "0  395.24  21.46   21.7  \n",
              "1  396.90  13.44   15.0  \n",
              "2    0.32  17.44   13.4  \n",
              "3  388.45   3.32   50.0  \n",
              "4  376.11  20.31   12.1  "
            ],
            "text/html": [
              "\n",
              "  <div id=\"df-926e2e8d-daf6-4ccc-98a2-eae178b42b32\">\n",
              "    <div class=\"colab-df-container\">\n",
              "      <div>\n",
              "<style scoped>\n",
              "    .dataframe tbody tr th:only-of-type {\n",
              "        vertical-align: middle;\n",
              "    }\n",
              "\n",
              "    .dataframe tbody tr th {\n",
              "        vertical-align: top;\n",
              "    }\n",
              "\n",
              "    .dataframe thead th {\n",
              "        text-align: right;\n",
              "    }\n",
              "</style>\n",
              "<table border=\"1\" class=\"dataframe\">\n",
              "  <thead>\n",
              "    <tr style=\"text-align: right;\">\n",
              "      <th></th>\n",
              "      <th>CRIM</th>\n",
              "      <th>ZN</th>\n",
              "      <th>INDUS</th>\n",
              "      <th>CHAS</th>\n",
              "      <th>NOX</th>\n",
              "      <th>RM</th>\n",
              "      <th>AGE</th>\n",
              "      <th>DIS</th>\n",
              "      <th>RAD</th>\n",
              "      <th>TAX</th>\n",
              "      <th>PTRATIO</th>\n",
              "      <th>B</th>\n",
              "      <th>LSTAT</th>\n",
              "      <th>PRICE</th>\n",
              "    </tr>\n",
              "  </thead>\n",
              "  <tbody>\n",
              "    <tr>\n",
              "      <th>0</th>\n",
              "      <td>0.40771</td>\n",
              "      <td>0.0</td>\n",
              "      <td>6.20</td>\n",
              "      <td>1</td>\n",
              "      <td>0.507</td>\n",
              "      <td>6.164</td>\n",
              "      <td>91.3</td>\n",
              "      <td>3.0480</td>\n",
              "      <td>8</td>\n",
              "      <td>307</td>\n",
              "      <td>17.4</td>\n",
              "      <td>395.24</td>\n",
              "      <td>21.46</td>\n",
              "      <td>21.7</td>\n",
              "    </tr>\n",
              "    <tr>\n",
              "      <th>1</th>\n",
              "      <td>19.60910</td>\n",
              "      <td>0.0</td>\n",
              "      <td>18.10</td>\n",
              "      <td>0</td>\n",
              "      <td>0.671</td>\n",
              "      <td>7.313</td>\n",
              "      <td>97.9</td>\n",
              "      <td>1.3163</td>\n",
              "      <td>24</td>\n",
              "      <td>666</td>\n",
              "      <td>20.2</td>\n",
              "      <td>396.90</td>\n",
              "      <td>13.44</td>\n",
              "      <td>15.0</td>\n",
              "    </tr>\n",
              "    <tr>\n",
              "      <th>2</th>\n",
              "      <td>6.71772</td>\n",
              "      <td>0.0</td>\n",
              "      <td>18.10</td>\n",
              "      <td>0</td>\n",
              "      <td>0.713</td>\n",
              "      <td>6.749</td>\n",
              "      <td>92.6</td>\n",
              "      <td>2.3236</td>\n",
              "      <td>24</td>\n",
              "      <td>666</td>\n",
              "      <td>20.2</td>\n",
              "      <td>0.32</td>\n",
              "      <td>17.44</td>\n",
              "      <td>13.4</td>\n",
              "    </tr>\n",
              "    <tr>\n",
              "      <th>3</th>\n",
              "      <td>1.51902</td>\n",
              "      <td>0.0</td>\n",
              "      <td>19.58</td>\n",
              "      <td>1</td>\n",
              "      <td>0.605</td>\n",
              "      <td>8.375</td>\n",
              "      <td>93.9</td>\n",
              "      <td>2.1620</td>\n",
              "      <td>5</td>\n",
              "      <td>403</td>\n",
              "      <td>14.7</td>\n",
              "      <td>388.45</td>\n",
              "      <td>3.32</td>\n",
              "      <td>50.0</td>\n",
              "    </tr>\n",
              "    <tr>\n",
              "      <th>4</th>\n",
              "      <td>9.59571</td>\n",
              "      <td>0.0</td>\n",
              "      <td>18.10</td>\n",
              "      <td>0</td>\n",
              "      <td>0.693</td>\n",
              "      <td>6.404</td>\n",
              "      <td>100.0</td>\n",
              "      <td>1.6390</td>\n",
              "      <td>24</td>\n",
              "      <td>666</td>\n",
              "      <td>20.2</td>\n",
              "      <td>376.11</td>\n",
              "      <td>20.31</td>\n",
              "      <td>12.1</td>\n",
              "    </tr>\n",
              "  </tbody>\n",
              "</table>\n",
              "</div>\n",
              "      <button class=\"colab-df-convert\" onclick=\"convertToInteractive('df-926e2e8d-daf6-4ccc-98a2-eae178b42b32')\"\n",
              "              title=\"Convert this dataframe to an interactive table.\"\n",
              "              style=\"display:none;\">\n",
              "        \n",
              "  <svg xmlns=\"http://www.w3.org/2000/svg\" height=\"24px\"viewBox=\"0 0 24 24\"\n",
              "       width=\"24px\">\n",
              "    <path d=\"M0 0h24v24H0V0z\" fill=\"none\"/>\n",
              "    <path d=\"M18.56 5.44l.94 2.06.94-2.06 2.06-.94-2.06-.94-.94-2.06-.94 2.06-2.06.94zm-11 1L8.5 8.5l.94-2.06 2.06-.94-2.06-.94L8.5 2.5l-.94 2.06-2.06.94zm10 10l.94 2.06.94-2.06 2.06-.94-2.06-.94-.94-2.06-.94 2.06-2.06.94z\"/><path d=\"M17.41 7.96l-1.37-1.37c-.4-.4-.92-.59-1.43-.59-.52 0-1.04.2-1.43.59L10.3 9.45l-7.72 7.72c-.78.78-.78 2.05 0 2.83L4 21.41c.39.39.9.59 1.41.59.51 0 1.02-.2 1.41-.59l7.78-7.78 2.81-2.81c.8-.78.8-2.07 0-2.86zM5.41 20L4 18.59l7.72-7.72 1.47 1.35L5.41 20z\"/>\n",
              "  </svg>\n",
              "      </button>\n",
              "      \n",
              "  <style>\n",
              "    .colab-df-container {\n",
              "      display:flex;\n",
              "      flex-wrap:wrap;\n",
              "      gap: 12px;\n",
              "    }\n",
              "\n",
              "    .colab-df-convert {\n",
              "      background-color: #E8F0FE;\n",
              "      border: none;\n",
              "      border-radius: 50%;\n",
              "      cursor: pointer;\n",
              "      display: none;\n",
              "      fill: #1967D2;\n",
              "      height: 32px;\n",
              "      padding: 0 0 0 0;\n",
              "      width: 32px;\n",
              "    }\n",
              "\n",
              "    .colab-df-convert:hover {\n",
              "      background-color: #E2EBFA;\n",
              "      box-shadow: 0px 1px 2px rgba(60, 64, 67, 0.3), 0px 1px 3px 1px rgba(60, 64, 67, 0.15);\n",
              "      fill: #174EA6;\n",
              "    }\n",
              "\n",
              "    [theme=dark] .colab-df-convert {\n",
              "      background-color: #3B4455;\n",
              "      fill: #D2E3FC;\n",
              "    }\n",
              "\n",
              "    [theme=dark] .colab-df-convert:hover {\n",
              "      background-color: #434B5C;\n",
              "      box-shadow: 0px 1px 3px 1px rgba(0, 0, 0, 0.15);\n",
              "      filter: drop-shadow(0px 1px 2px rgba(0, 0, 0, 0.3));\n",
              "      fill: #FFFFFF;\n",
              "    }\n",
              "  </style>\n",
              "\n",
              "      <script>\n",
              "        const buttonEl =\n",
              "          document.querySelector('#df-926e2e8d-daf6-4ccc-98a2-eae178b42b32 button.colab-df-convert');\n",
              "        buttonEl.style.display =\n",
              "          google.colab.kernel.accessAllowed ? 'block' : 'none';\n",
              "\n",
              "        async function convertToInteractive(key) {\n",
              "          const element = document.querySelector('#df-926e2e8d-daf6-4ccc-98a2-eae178b42b32');\n",
              "          const dataTable =\n",
              "            await google.colab.kernel.invokeFunction('convertToInteractive',\n",
              "                                                     [key], {});\n",
              "          if (!dataTable) return;\n",
              "\n",
              "          const docLinkHtml = 'Like what you see? Visit the ' +\n",
              "            '<a target=\"_blank\" href=https://colab.research.google.com/notebooks/data_table.ipynb>data table notebook</a>'\n",
              "            + ' to learn more about interactive tables.';\n",
              "          element.innerHTML = '';\n",
              "          dataTable['output_type'] = 'display_data';\n",
              "          await google.colab.output.renderOutput(dataTable, element);\n",
              "          const docLink = document.createElement('div');\n",
              "          docLink.innerHTML = docLinkHtml;\n",
              "          element.appendChild(docLink);\n",
              "        }\n",
              "      </script>\n",
              "    </div>\n",
              "  </div>\n",
              "  "
            ]
          },
          "metadata": {},
          "execution_count": 2
        }
      ],
      "source": [
        "#Pembacaan Dataset\n",
        "data_train = pd.read_excel(\"boston_train.xlsx\")\n",
        "data_train.head()"
      ],
      "id": "5cd81089"
    },
    {
      "cell_type": "code",
      "source": [
        "#Cek info tipe data yang berada dalam Dataset\n",
        "data_train.info()"
      ],
      "metadata": {
        "colab": {
          "base_uri": "https://localhost:8080/"
        },
        "id": "SC93GNanl3GI",
        "outputId": "73b4a785-62ac-4138-87c0-acc891dca237"
      },
      "id": "SC93GNanl3GI",
      "execution_count": null,
      "outputs": [
        {
          "output_type": "stream",
          "name": "stdout",
          "text": [
            "<class 'pandas.core.frame.DataFrame'>\n",
            "RangeIndex: 404 entries, 0 to 403\n",
            "Data columns (total 14 columns):\n",
            " #   Column   Non-Null Count  Dtype  \n",
            "---  ------   --------------  -----  \n",
            " 0   CRIM     404 non-null    float64\n",
            " 1   ZN       404 non-null    float64\n",
            " 2   INDUS    404 non-null    float64\n",
            " 3   CHAS     404 non-null    int64  \n",
            " 4   NOX      404 non-null    float64\n",
            " 5   RM       404 non-null    float64\n",
            " 6   AGE      404 non-null    float64\n",
            " 7   DIS      404 non-null    float64\n",
            " 8   RAD      404 non-null    int64  \n",
            " 9   TAX      404 non-null    int64  \n",
            " 10  PTRATIO  404 non-null    float64\n",
            " 11  B        404 non-null    float64\n",
            " 12  LSTAT    404 non-null    float64\n",
            " 13  PRICE    404 non-null    float64\n",
            "dtypes: float64(11), int64(3)\n",
            "memory usage: 44.3 KB\n"
          ]
        }
      ]
    },
    {
      "cell_type": "code",
      "execution_count": null,
      "metadata": {
        "id": "10fb4ea4",
        "colab": {
          "base_uri": "https://localhost:8080/"
        },
        "outputId": "ee3e28db-6b96-48b0-cef3-11a47a28fe29"
      },
      "outputs": [
        {
          "output_type": "execute_result",
          "data": {
            "text/plain": [
              "CRIM       0\n",
              "ZN         0\n",
              "INDUS      0\n",
              "CHAS       0\n",
              "NOX        0\n",
              "RM         0\n",
              "AGE        0\n",
              "DIS        0\n",
              "RAD        0\n",
              "TAX        0\n",
              "PTRATIO    0\n",
              "B          0\n",
              "LSTAT      0\n",
              "PRICE      0\n",
              "dtype: int64"
            ]
          },
          "metadata": {},
          "execution_count": 4
        }
      ],
      "source": [
        "#Cek nilai kosong dari dataset\n",
        "data_train.isnull().sum()"
      ],
      "id": "10fb4ea4"
    },
    {
      "cell_type": "code",
      "execution_count": null,
      "metadata": {
        "id": "1542fe6e",
        "colab": {
          "base_uri": "https://localhost:8080/"
        },
        "outputId": "4baa11a7-9241-4713-8864-9887e160dfc7"
      },
      "outputs": [
        {
          "output_type": "stream",
          "name": "stdout",
          "text": [
            "             CRIM          ZN       INDUS        CHAS         NOX          RM  \\\n",
            "count  404.000000  404.000000  404.000000  404.000000  404.000000  404.000000   \n",
            "mean     3.423852   10.818069   11.168911    0.071782    0.556195    6.278074   \n",
            "std      8.197229   23.061649    6.798110    0.258447    0.116187    0.691061   \n",
            "min      0.006320    0.000000    0.460000    0.000000    0.385000    3.561000   \n",
            "25%      0.082598    0.000000    5.190000    0.000000    0.453000    5.888000   \n",
            "50%      0.260420    0.000000    9.690000    0.000000    0.538000    6.198500   \n",
            "75%      3.694070    3.125000   18.100000    0.000000    0.624000    6.616500   \n",
            "max     88.976200   95.000000   27.740000    1.000000    0.871000    8.780000   \n",
            "\n",
            "              AGE         DIS         RAD         TAX     PTRATIO           B  \\\n",
            "count  404.000000  404.000000  404.000000  404.000000  404.000000  404.000000   \n",
            "mean    68.979455    3.724405    9.551980  407.712871   18.458911  353.866139   \n",
            "std     27.692028    1.983793    8.741662  169.344926    2.152993   95.592190   \n",
            "min      2.900000    1.129600    1.000000  188.000000   12.600000    0.320000   \n",
            "25%     45.800000    2.110500    4.000000  278.500000   17.400000  374.527500   \n",
            "50%     77.150000    3.207450    5.000000  330.000000   19.000000  391.880000   \n",
            "75%     93.900000    5.104475   24.000000  666.000000   20.200000  396.285000   \n",
            "max    100.000000   10.585700   24.000000  711.000000   22.000000  396.900000   \n",
            "\n",
            "            LSTAT       PRICE  \n",
            "count  404.000000  404.000000  \n",
            "mean    12.768267   22.409901  \n",
            "std      7.170852    8.940920  \n",
            "min      1.730000    6.300000  \n",
            "25%      7.135000   17.175000  \n",
            "50%     11.675000   20.950000  \n",
            "75%     16.605000   25.000000  \n",
            "max     37.970000   50.000000  \n"
          ]
        }
      ],
      "source": [
        "#Cek informasi statistikal dalam dataset\n",
        "print(data_train.describe())"
      ],
      "id": "1542fe6e"
    },
    {
      "cell_type": "code",
      "execution_count": null,
      "metadata": {
        "colab": {
          "base_uri": "https://localhost:8080/",
          "height": 206
        },
        "id": "a161a775",
        "outputId": "306ffd5e-c7e4-4028-c275-0451ca582141"
      },
      "outputs": [
        {
          "output_type": "execute_result",
          "data": {
            "text/plain": [
              "       CRIM    ZN  INDUS  CHAS     NOX     RM    AGE     DIS  RAD  TAX  \\\n",
              "0   0.01951  17.5   1.38     0  0.4161  7.104   59.5  9.2229    3  216   \n",
              "1   0.14866   0.0   8.56     0  0.5200  6.727   79.9  2.7778    5  384   \n",
              "2  25.04610   0.0  18.10     0  0.6930  5.987  100.0  1.5888   24  666   \n",
              "3   3.67367   0.0  18.10     0  0.5830  6.312   51.9  3.9917   24  666   \n",
              "4   9.51363   0.0  18.10     0  0.7130  6.728   94.1  2.4961   24  666   \n",
              "\n",
              "   PTRATIO       B  LSTAT  PRICE  \n",
              "0     18.6  393.24   8.05   33.0  \n",
              "1     20.9  394.76   9.42   27.5  \n",
              "2     20.2  396.90  26.77    5.6  \n",
              "3     20.2  388.62  10.58   21.2  \n",
              "4     20.2    6.68  18.71   14.9  "
            ],
            "text/html": [
              "\n",
              "  <div id=\"df-b1dd3b14-694d-4fd5-9de1-5dd0600beb10\">\n",
              "    <div class=\"colab-df-container\">\n",
              "      <div>\n",
              "<style scoped>\n",
              "    .dataframe tbody tr th:only-of-type {\n",
              "        vertical-align: middle;\n",
              "    }\n",
              "\n",
              "    .dataframe tbody tr th {\n",
              "        vertical-align: top;\n",
              "    }\n",
              "\n",
              "    .dataframe thead th {\n",
              "        text-align: right;\n",
              "    }\n",
              "</style>\n",
              "<table border=\"1\" class=\"dataframe\">\n",
              "  <thead>\n",
              "    <tr style=\"text-align: right;\">\n",
              "      <th></th>\n",
              "      <th>CRIM</th>\n",
              "      <th>ZN</th>\n",
              "      <th>INDUS</th>\n",
              "      <th>CHAS</th>\n",
              "      <th>NOX</th>\n",
              "      <th>RM</th>\n",
              "      <th>AGE</th>\n",
              "      <th>DIS</th>\n",
              "      <th>RAD</th>\n",
              "      <th>TAX</th>\n",
              "      <th>PTRATIO</th>\n",
              "      <th>B</th>\n",
              "      <th>LSTAT</th>\n",
              "      <th>PRICE</th>\n",
              "    </tr>\n",
              "  </thead>\n",
              "  <tbody>\n",
              "    <tr>\n",
              "      <th>0</th>\n",
              "      <td>0.01951</td>\n",
              "      <td>17.5</td>\n",
              "      <td>1.38</td>\n",
              "      <td>0</td>\n",
              "      <td>0.4161</td>\n",
              "      <td>7.104</td>\n",
              "      <td>59.5</td>\n",
              "      <td>9.2229</td>\n",
              "      <td>3</td>\n",
              "      <td>216</td>\n",
              "      <td>18.6</td>\n",
              "      <td>393.24</td>\n",
              "      <td>8.05</td>\n",
              "      <td>33.0</td>\n",
              "    </tr>\n",
              "    <tr>\n",
              "      <th>1</th>\n",
              "      <td>0.14866</td>\n",
              "      <td>0.0</td>\n",
              "      <td>8.56</td>\n",
              "      <td>0</td>\n",
              "      <td>0.5200</td>\n",
              "      <td>6.727</td>\n",
              "      <td>79.9</td>\n",
              "      <td>2.7778</td>\n",
              "      <td>5</td>\n",
              "      <td>384</td>\n",
              "      <td>20.9</td>\n",
              "      <td>394.76</td>\n",
              "      <td>9.42</td>\n",
              "      <td>27.5</td>\n",
              "    </tr>\n",
              "    <tr>\n",
              "      <th>2</th>\n",
              "      <td>25.04610</td>\n",
              "      <td>0.0</td>\n",
              "      <td>18.10</td>\n",
              "      <td>0</td>\n",
              "      <td>0.6930</td>\n",
              "      <td>5.987</td>\n",
              "      <td>100.0</td>\n",
              "      <td>1.5888</td>\n",
              "      <td>24</td>\n",
              "      <td>666</td>\n",
              "      <td>20.2</td>\n",
              "      <td>396.90</td>\n",
              "      <td>26.77</td>\n",
              "      <td>5.6</td>\n",
              "    </tr>\n",
              "    <tr>\n",
              "      <th>3</th>\n",
              "      <td>3.67367</td>\n",
              "      <td>0.0</td>\n",
              "      <td>18.10</td>\n",
              "      <td>0</td>\n",
              "      <td>0.5830</td>\n",
              "      <td>6.312</td>\n",
              "      <td>51.9</td>\n",
              "      <td>3.9917</td>\n",
              "      <td>24</td>\n",
              "      <td>666</td>\n",
              "      <td>20.2</td>\n",
              "      <td>388.62</td>\n",
              "      <td>10.58</td>\n",
              "      <td>21.2</td>\n",
              "    </tr>\n",
              "    <tr>\n",
              "      <th>4</th>\n",
              "      <td>9.51363</td>\n",
              "      <td>0.0</td>\n",
              "      <td>18.10</td>\n",
              "      <td>0</td>\n",
              "      <td>0.7130</td>\n",
              "      <td>6.728</td>\n",
              "      <td>94.1</td>\n",
              "      <td>2.4961</td>\n",
              "      <td>24</td>\n",
              "      <td>666</td>\n",
              "      <td>20.2</td>\n",
              "      <td>6.68</td>\n",
              "      <td>18.71</td>\n",
              "      <td>14.9</td>\n",
              "    </tr>\n",
              "  </tbody>\n",
              "</table>\n",
              "</div>\n",
              "      <button class=\"colab-df-convert\" onclick=\"convertToInteractive('df-b1dd3b14-694d-4fd5-9de1-5dd0600beb10')\"\n",
              "              title=\"Convert this dataframe to an interactive table.\"\n",
              "              style=\"display:none;\">\n",
              "        \n",
              "  <svg xmlns=\"http://www.w3.org/2000/svg\" height=\"24px\"viewBox=\"0 0 24 24\"\n",
              "       width=\"24px\">\n",
              "    <path d=\"M0 0h24v24H0V0z\" fill=\"none\"/>\n",
              "    <path d=\"M18.56 5.44l.94 2.06.94-2.06 2.06-.94-2.06-.94-.94-2.06-.94 2.06-2.06.94zm-11 1L8.5 8.5l.94-2.06 2.06-.94-2.06-.94L8.5 2.5l-.94 2.06-2.06.94zm10 10l.94 2.06.94-2.06 2.06-.94-2.06-.94-.94-2.06-.94 2.06-2.06.94z\"/><path d=\"M17.41 7.96l-1.37-1.37c-.4-.4-.92-.59-1.43-.59-.52 0-1.04.2-1.43.59L10.3 9.45l-7.72 7.72c-.78.78-.78 2.05 0 2.83L4 21.41c.39.39.9.59 1.41.59.51 0 1.02-.2 1.41-.59l7.78-7.78 2.81-2.81c.8-.78.8-2.07 0-2.86zM5.41 20L4 18.59l7.72-7.72 1.47 1.35L5.41 20z\"/>\n",
              "  </svg>\n",
              "      </button>\n",
              "      \n",
              "  <style>\n",
              "    .colab-df-container {\n",
              "      display:flex;\n",
              "      flex-wrap:wrap;\n",
              "      gap: 12px;\n",
              "    }\n",
              "\n",
              "    .colab-df-convert {\n",
              "      background-color: #E8F0FE;\n",
              "      border: none;\n",
              "      border-radius: 50%;\n",
              "      cursor: pointer;\n",
              "      display: none;\n",
              "      fill: #1967D2;\n",
              "      height: 32px;\n",
              "      padding: 0 0 0 0;\n",
              "      width: 32px;\n",
              "    }\n",
              "\n",
              "    .colab-df-convert:hover {\n",
              "      background-color: #E2EBFA;\n",
              "      box-shadow: 0px 1px 2px rgba(60, 64, 67, 0.3), 0px 1px 3px 1px rgba(60, 64, 67, 0.15);\n",
              "      fill: #174EA6;\n",
              "    }\n",
              "\n",
              "    [theme=dark] .colab-df-convert {\n",
              "      background-color: #3B4455;\n",
              "      fill: #D2E3FC;\n",
              "    }\n",
              "\n",
              "    [theme=dark] .colab-df-convert:hover {\n",
              "      background-color: #434B5C;\n",
              "      box-shadow: 0px 1px 3px 1px rgba(0, 0, 0, 0.15);\n",
              "      filter: drop-shadow(0px 1px 2px rgba(0, 0, 0, 0.3));\n",
              "      fill: #FFFFFF;\n",
              "    }\n",
              "  </style>\n",
              "\n",
              "      <script>\n",
              "        const buttonEl =\n",
              "          document.querySelector('#df-b1dd3b14-694d-4fd5-9de1-5dd0600beb10 button.colab-df-convert');\n",
              "        buttonEl.style.display =\n",
              "          google.colab.kernel.accessAllowed ? 'block' : 'none';\n",
              "\n",
              "        async function convertToInteractive(key) {\n",
              "          const element = document.querySelector('#df-b1dd3b14-694d-4fd5-9de1-5dd0600beb10');\n",
              "          const dataTable =\n",
              "            await google.colab.kernel.invokeFunction('convertToInteractive',\n",
              "                                                     [key], {});\n",
              "          if (!dataTable) return;\n",
              "\n",
              "          const docLinkHtml = 'Like what you see? Visit the ' +\n",
              "            '<a target=\"_blank\" href=https://colab.research.google.com/notebooks/data_table.ipynb>data table notebook</a>'\n",
              "            + ' to learn more about interactive tables.';\n",
              "          element.innerHTML = '';\n",
              "          dataTable['output_type'] = 'display_data';\n",
              "          await google.colab.output.renderOutput(dataTable, element);\n",
              "          const docLink = document.createElement('div');\n",
              "          docLink.innerHTML = docLinkHtml;\n",
              "          element.appendChild(docLink);\n",
              "        }\n",
              "      </script>\n",
              "    </div>\n",
              "  </div>\n",
              "  "
            ]
          },
          "metadata": {},
          "execution_count": 6
        }
      ],
      "source": [
        "data_test = pd.read_excel(\"boston_test.xlsx\")\n",
        "data_test.head()"
      ],
      "id": "a161a775"
    },
    {
      "cell_type": "code",
      "execution_count": null,
      "metadata": {
        "colab": {
          "base_uri": "https://localhost:8080/"
        },
        "id": "636a604b",
        "outputId": "6e0cfb7c-c241-4d92-dcdb-d10e07ada112"
      },
      "outputs": [
        {
          "output_type": "stream",
          "name": "stdout",
          "text": [
            "<class 'pandas.core.frame.DataFrame'>\n",
            "RangeIndex: 102 entries, 0 to 101\n",
            "Data columns (total 14 columns):\n",
            " #   Column   Non-Null Count  Dtype  \n",
            "---  ------   --------------  -----  \n",
            " 0   CRIM     102 non-null    float64\n",
            " 1   ZN       102 non-null    float64\n",
            " 2   INDUS    102 non-null    float64\n",
            " 3   CHAS     102 non-null    int64  \n",
            " 4   NOX      102 non-null    float64\n",
            " 5   RM       102 non-null    float64\n",
            " 6   AGE      102 non-null    float64\n",
            " 7   DIS      102 non-null    float64\n",
            " 8   RAD      102 non-null    int64  \n",
            " 9   TAX      102 non-null    int64  \n",
            " 10  PTRATIO  102 non-null    float64\n",
            " 11  B        102 non-null    float64\n",
            " 12  LSTAT    102 non-null    float64\n",
            " 13  PRICE    102 non-null    float64\n",
            "dtypes: float64(11), int64(3)\n",
            "memory usage: 11.3 KB\n"
          ]
        }
      ],
      "source": [
        "data_test.info()"
      ],
      "id": "636a604b"
    },
    {
      "cell_type": "code",
      "execution_count": null,
      "metadata": {
        "colab": {
          "base_uri": "https://localhost:8080/"
        },
        "id": "acad2d9a",
        "outputId": "c76220a5-26b0-4a2b-f4df-ea6583a01e92"
      },
      "outputs": [
        {
          "output_type": "execute_result",
          "data": {
            "text/plain": [
              "CRIM       0\n",
              "ZN         0\n",
              "INDUS      0\n",
              "CHAS       0\n",
              "NOX        0\n",
              "RM         0\n",
              "AGE        0\n",
              "DIS        0\n",
              "RAD        0\n",
              "TAX        0\n",
              "PTRATIO    0\n",
              "B          0\n",
              "LSTAT      0\n",
              "PRICE      0\n",
              "dtype: int64"
            ]
          },
          "metadata": {},
          "execution_count": 8
        }
      ],
      "source": [
        "data_test.isnull().sum()"
      ],
      "id": "acad2d9a"
    },
    {
      "cell_type": "code",
      "execution_count": null,
      "metadata": {
        "colab": {
          "base_uri": "https://localhost:8080/"
        },
        "id": "8a393c48",
        "outputId": "c017aed3-0418-4c6f-96d0-ab44f9acad06"
      },
      "outputs": [
        {
          "output_type": "stream",
          "name": "stdout",
          "text": [
            "             CRIM          ZN       INDUS        CHAS         NOX          RM  \\\n",
            "count  102.000000  102.000000  102.000000  102.000000  102.000000  102.000000   \n",
            "mean     4.364772   13.524510   11.009510    0.058824    0.548755    6.310618   \n",
            "std     10.055150   24.324577    7.134571    0.236456    0.115022    0.749645   \n",
            "min      0.010960    0.000000    1.250000    0.000000    0.389000    4.138000   \n",
            "25%      0.079095    0.000000    4.210000    0.000000    0.438250    5.878250   \n",
            "50%      0.250895    0.000000    9.900000    0.000000    0.538000    6.235500   \n",
            "75%      3.438745   20.000000   18.100000    0.000000    0.624000    6.707000   \n",
            "max     67.920800  100.000000   27.740000    1.000000    0.871000    8.725000   \n",
            "\n",
            "              AGE         DIS         RAD         TAX     PTRATIO           B  \\\n",
            "count  102.000000  102.000000  102.000000  102.000000  102.000000  102.000000   \n",
            "mean    66.972549    4.074823    9.539216  410.313725   18.442157  367.795490   \n",
            "std     29.979046    2.523548    8.612300  166.106788    2.222408   71.107801   \n",
            "min      6.000000    1.178100    1.000000  187.000000   13.000000    3.650000   \n",
            "25%     40.650000    2.050300    4.000000  287.500000   17.000000  377.255000   \n",
            "50%     78.750000    3.199200    5.000000  335.000000   19.100000  389.780000   \n",
            "75%     94.550000    5.469050   20.000000  666.000000   20.200000  395.717500   \n",
            "max    100.000000   12.126500   24.000000  711.000000   22.000000  396.900000   \n",
            "\n",
            "            LSTAT       PRICE  \n",
            "count  102.000000  102.000000  \n",
            "mean    12.196765   23.019608  \n",
            "std      7.038117   10.181609  \n",
            "min      1.980000    5.000000  \n",
            "25%      6.802500   15.575000  \n",
            "50%     10.175000   22.000000  \n",
            "75%     17.835000   27.400000  \n",
            "max     31.990000   50.000000  \n"
          ]
        }
      ],
      "source": [
        "print(data_test.describe())"
      ],
      "id": "8a393c48"
    },
    {
      "cell_type": "code",
      "execution_count": null,
      "metadata": {
        "id": "5700f9b1"
      },
      "outputs": [],
      "source": [
        "#Pelabelan dalam fitur yang akan menjadi Target regresi\n",
        "label_train = data_train['PRICE']\n",
        "label_test = data_test['PRICE']\n",
        "\n",
        "# Spliting target variable and independent variables\n",
        "data_train = data_train.drop(['ZN','CHAS','PRICE'], axis=1)\n",
        "data_test = data_test.drop(['ZN','CHAS','PRICE'], axis=1)"
      ],
      "id": "5700f9b1"
    },
    {
      "cell_type": "code",
      "execution_count": null,
      "metadata": {
        "id": "zi1G8h7atM_T"
      },
      "outputs": [],
      "source": [
        "# #Proses Encoder\n",
        "# from sklearn import preprocessing\n",
        "\n",
        "# data_train = data_train.apply(preprocessing.LabelEncoder().fit_transform)\n",
        "# data_test = data_train.apply(preprocessing.LabelEncoder().fit_transform)"
      ],
      "id": "zi1G8h7atM_T"
    },
    {
      "cell_type": "code",
      "execution_count": null,
      "metadata": {
        "id": "56c6ff57"
      },
      "outputs": [],
      "source": [
        "#Normalisasi Data pada Dataset\n",
        "from sklearn.preprocessing import MinMaxScaler\n",
        "\n",
        "scaler = MinMaxScaler()\n",
        "\n",
        "data_train = data_train.copy()\n",
        "data_train = scaler.fit_transform(data_train)\n",
        "data_test = data_test.copy()\n",
        "data_test = scaler.fit_transform(data_test)"
      ],
      "id": "56c6ff57"
    },
    {
      "cell_type": "code",
      "execution_count": null,
      "metadata": {
        "colab": {
          "base_uri": "https://localhost:8080/"
        },
        "id": "2Siw5EjVa8f0",
        "outputId": "885e1beb-c4e2-4d1a-9e4b-d63f242e58ac"
      },
      "outputs": [
        {
          "output_type": "stream",
          "name": "stdout",
          "text": [
            "Looking in indexes: https://pypi.org/simple, https://us-python.pkg.dev/colab-wheels/public/simple/\n",
            "Requirement already satisfied: niapy in /usr/local/lib/python3.7/dist-packages (2.0.2)\n",
            "Requirement already satisfied: pandas>=0.24.2 in /usr/local/lib/python3.7/dist-packages (from niapy) (1.3.5)\n",
            "Requirement already satisfied: numpy>=1.17.0 in /usr/local/lib/python3.7/dist-packages (from niapy) (1.21.6)\n",
            "Requirement already satisfied: openpyxl>=3.0.3 in /usr/local/lib/python3.7/dist-packages (from niapy) (3.0.10)\n",
            "Requirement already satisfied: matplotlib>=2.2.4 in /usr/local/lib/python3.7/dist-packages (from niapy) (3.2.2)\n",
            "Requirement already satisfied: cycler>=0.10 in /usr/local/lib/python3.7/dist-packages (from matplotlib>=2.2.4->niapy) (0.11.0)\n",
            "Requirement already satisfied: pyparsing!=2.0.4,!=2.1.2,!=2.1.6,>=2.0.1 in /usr/local/lib/python3.7/dist-packages (from matplotlib>=2.2.4->niapy) (3.0.9)\n",
            "Requirement already satisfied: python-dateutil>=2.1 in /usr/local/lib/python3.7/dist-packages (from matplotlib>=2.2.4->niapy) (2.8.2)\n",
            "Requirement already satisfied: kiwisolver>=1.0.1 in /usr/local/lib/python3.7/dist-packages (from matplotlib>=2.2.4->niapy) (1.4.3)\n",
            "Requirement already satisfied: typing-extensions in /usr/local/lib/python3.7/dist-packages (from kiwisolver>=1.0.1->matplotlib>=2.2.4->niapy) (4.1.1)\n",
            "Requirement already satisfied: et-xmlfile in /usr/local/lib/python3.7/dist-packages (from openpyxl>=3.0.3->niapy) (1.1.0)\n",
            "Requirement already satisfied: pytz>=2017.3 in /usr/local/lib/python3.7/dist-packages (from pandas>=0.24.2->niapy) (2022.1)\n",
            "Requirement already satisfied: six>=1.5 in /usr/local/lib/python3.7/dist-packages (from python-dateutil>=2.1->matplotlib>=2.2.4->niapy) (1.15.0)\n"
          ]
        }
      ],
      "source": [
        "pip install niapy"
      ],
      "id": "2Siw5EjVa8f0"
    },
    {
      "cell_type": "code",
      "execution_count": null,
      "metadata": {
        "id": "b264cb01"
      },
      "outputs": [],
      "source": [
        "#Import model Regressi dan evaluasi skor model\n",
        "from sklearn.svm import SVR\n",
        "from sklearn.model_selection import cross_val_score"
      ],
      "id": "b264cb01"
    },
    {
      "cell_type": "code",
      "execution_count": null,
      "metadata": {
        "id": "c0082d62"
      },
      "outputs": [],
      "source": [
        "#import model Nature Inspired dari NiaPy\n",
        "from niapy.problems import Problem\n",
        "from niapy.task import OptimizationType, Task\n",
        "from niapy.algorithms.modified import HybridSelfAdaptiveBatAlgorithm"
      ],
      "id": "c0082d62"
    },
    {
      "cell_type": "code",
      "execution_count": null,
      "metadata": {
        "id": "edb833b3"
      },
      "outputs": [],
      "source": [
        "#Definisikan method yang akan dicari hyperparameter terbaiknya\n",
        "def get_hyperparameters(x):\n",
        "  kernel = ('rbf', 'poly', 'sigmoid', 'linear')\n",
        "  C = int(5 + x[0] * 95)\n",
        "  degree = int(1 + x[1] * 5)\n",
        "  kernels = kernel[int(x[2] * 2)]\n",
        "  gamma = 'auto' if x[0] < 0.5 else 'scale'\n",
        "\n",
        "  params =  {\n",
        "        'C': C,\n",
        "        #[0.1, 1, 100,1000]\n",
        "        'kernel': kernels,\n",
        "        #['rbf','poly','sigmoid','linear']\n",
        "        'degree': degree,\n",
        "        #[1,2,3,4,5,6]\n",
        "        'gamma': gamma\n",
        "        #[auto and scale]\n",
        "    }\n",
        "\n",
        "  return params"
      ],
      "id": "edb833b3"
    },
    {
      "cell_type": "code",
      "execution_count": null,
      "metadata": {
        "id": "02a3f37d"
      },
      "outputs": [],
      "source": [
        "#Inisiasi method pembangun classifier\n",
        "def get_classifier(x):\n",
        "    \"\"\"Get classifier from solution `x`.\"\"\"\n",
        "    params = get_hyperparameters(x)\n",
        "    return SVR(**params)"
      ],
      "id": "02a3f37d"
    },
    {
      "cell_type": "code",
      "execution_count": null,
      "metadata": {
        "id": "a5aa8aae"
      },
      "outputs": [],
      "source": [
        "#Inisiasi custom Problem untuk optimasi Hyperparaeter\n",
        "class SVMHyperparameterOptimization(Problem):\n",
        "    def __init__(self, data_train, label_train):\n",
        "        super().__init__(dimension=data_train.shape[1], lower=0, upper=1)\n",
        "        self.data_train = data_train\n",
        "        self.label_train = label_train\n",
        "\n",
        "#Hitung hasil evaluasi dari optimasi hyperparameter\n",
        "    def _evaluate(self, x):\n",
        "        model = get_classifier(x)\n",
        "        scores = cross_val_score(model, self.data_train, self.label_train, cv=2, n_jobs=-1)\n",
        "        return scores.mean()"
      ],
      "id": "a5aa8aae"
    },
    {
      "cell_type": "code",
      "execution_count": null,
      "metadata": {
        "id": "nZKtnqnJPdKv"
      },
      "outputs": [],
      "source": [
        "# lower = (0.01, 0.0001, 0.0001)\n",
        "# upper = (32000.0, 32.0, 1.0)"
      ],
      "id": "nZKtnqnJPdKv"
    },
    {
      "cell_type": "code",
      "execution_count": null,
      "metadata": {
        "colab": {
          "base_uri": "https://localhost:8080/"
        },
        "id": "e2e3f1c4",
        "outputId": "5bd06a8a-9728-420b-fe6b-29be8de948d1"
      },
      "outputs": [
        {
          "output_type": "stream",
          "name": "stdout",
          "text": [
            "Best parameters: {'C': 100, 'kernel': 'rbf', 'degree': 1, 'gamma': 'scale'}\n"
          ]
        }
      ],
      "source": [
        "#proses training pada algortima HSABA\n",
        "from niapy.algorithms.modified.hsaba import HybridSelfAdaptiveBatAlgorithm\n",
        "\n",
        "problem = SVMHyperparameterOptimization(data_train, label_train)\n",
        "\n",
        "#di run sebanyak 100 iterasi dalam method Problem\n",
        "task = Task(problem, max_iters=100, optimization_type=OptimizationType.MAXIMIZATION)\n",
        "\n",
        "#Inisiasi parameter dari HSABA seperti r0, A0, fmin dan fmax\n",
        "algorithm = HybridSelfAdaptiveBatAlgorithm(population_size=10, r0 = 0.5, A0 = 0.5, fmin = 0, fmax = 2)\n",
        "best_params, best_accuracy = algorithm.run(task)\n",
        "\n",
        "#Tampilkan hasil training\n",
        "print('Best parameters:', get_hyperparameters(best_params))"
      ],
      "id": "e2e3f1c4"
    },
    {
      "cell_type": "code",
      "source": [
        "#Hitung hasil evaluasi dari proses training\n",
        "default_model = SVR()\n",
        "best_model = get_classifier(best_params)\n",
        "\n",
        "default_model.fit(data_train, label_train)\n",
        "best_model.fit(data_train, label_train)\n",
        "\n",
        "default_score = default_model.score(data_test, label_test)\n",
        "best_score = best_model.score(data_test, label_test)\n",
        "\n",
        "#Tampilkan hasil training dengan akurasi\n",
        "print('Default model accuracy:', default_score)\n",
        "print('Best model accuracy:', best_score)"
      ],
      "metadata": {
        "colab": {
          "base_uri": "https://localhost:8080/"
        },
        "id": "QXlbUmf5xGDx",
        "outputId": "8d2d1ea2-a42f-4eb2-db60-d8634fac5519"
      },
      "id": "QXlbUmf5xGDx",
      "execution_count": null,
      "outputs": [
        {
          "output_type": "stream",
          "name": "stdout",
          "text": [
            "Default model accuracy: 0.6376605231038779\n",
            "Best model accuracy: 0.8783137966750106\n"
          ]
        }
      ]
    }
  ],
  "metadata": {
    "colab": {
      "provenance": []
    },
    "kernelspec": {
      "display_name": "Python 3 (ipykernel)",
      "language": "python",
      "name": "python3"
    },
    "language_info": {
      "codemirror_mode": {
        "name": "ipython",
        "version": 3
      },
      "file_extension": ".py",
      "mimetype": "text/x-python",
      "name": "python",
      "nbconvert_exporter": "python",
      "pygments_lexer": "ipython3",
      "version": "3.9.7"
    }
  },
  "nbformat": 4,
  "nbformat_minor": 5
}